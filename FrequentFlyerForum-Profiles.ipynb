{
 "cells": [
  {
   "cell_type": "code",
   "execution_count": 27,
   "metadata": {},
   "outputs": [],
   "source": [
    "import json"
   ]
  },
  {
   "cell_type": "code",
   "execution_count": 28,
   "metadata": {},
   "outputs": [],
   "source": [
    "file = open(\"FrequentFlyerForum-Profiles.json\", \"r\")"
   ]
  },
  {
   "cell_type": "code",
   "execution_count": 29,
   "metadata": {},
   "outputs": [],
   "source": [
    "json = json.load(file)"
   ]
  },
  {
   "cell_type": "code",
   "execution_count": 30,
   "metadata": {},
   "outputs": [
    {
     "name": "stdout",
     "output_type": "stream",
     "text": [
      "Forum Profiles\n"
     ]
    }
   ],
   "source": [
    "#Проверка, что только Forum Profiles\n",
    "for key, value in json.items():\n",
    "    print(key)"
   ]
  },
  {
   "cell_type": "code",
   "execution_count": 40,
   "metadata": {},
   "outputs": [],
   "source": [
    "f1 = open(\"FrequentFlyerForum-Profiles-Loyality_Programm.csv\", \"w\")\n",
    "f1.write(\"firstName\" + \";\" + \"lastName\" + \";\" + \"sex\" + \";\" + \"nickName\" + \";\" + \"status\" + \";\" + \"programm\" + \";\" + \"number\" + \"\\n\")\n",
    "\n",
    "for value in json[\"Forum Profiles\"]:\n",
    "    for loyalityProgramm in value[\"Loyality Programm\"]:\n",
    "        firstName = value[\"Real Name\"][\"First Name\"]\n",
    "        lastName = value[\"Real Name\"][\"Last Name\"]\n",
    "        sex = value[\"Sex\"]\n",
    "        nickName = value[\"NickName\"]\n",
    "        line = str(firstName) + \";\" + str(lastName) + \";\" + str(sex) + \";\" + str(nickName) + \";\" + str(loyalityProgramm[\"Status\"]) + \";\" + str(loyalityProgramm[\"programm\"]) + \";\" + str(loyalityProgramm[\"Number\"]) + \"\\n\"\n",
    "        line = line.replace('None', 'null')\n",
    "        f1.write(line)\n",
    "f1.close()"
   ]
  },
  {
   "cell_type": "code",
   "execution_count": 42,
   "metadata": {},
   "outputs": [],
   "source": [
    "f2 = open(\"FrequentFlyerForum-Profiles-Registered_Flights.csv\", \"w\")\n",
    "f2.write(\"firstName\"+ \";\" +\"lastName\"+ \";\" +\"sex\"+ \";\" +\"date\"+ \";\" +\"codeshare\"+ \";\" +\"arrivalCity\"+ \";\" +\"arrivalAirport\"+ \";\" +\"arrivalCountry\"+ \";\" +\"flight\"+ \";\" +\"departureCity\"+ \";\" +\"departureAirport\"+ \";\" +\"departureCountry\" + \"\\n\")\n",
    "\n",
    "for value in json[\"Forum Profiles\"]:\n",
    "    for registeredFlights in value[\"Registered Flights\"]:\n",
    "        firstName = value[\"Real Name\"][\"First Name\"]\n",
    "        lastName = value[\"Real Name\"][\"Last Name\"]\n",
    "        sex = value[\"Sex\"]\n",
    "        nickName = value[\"NickName\"]\n",
    "        line = str(firstName) + \";\" + str(lastName) + \";\" + str(sex) + \";\" + str(nickName) + \";\" + str(registeredFlights[\"Date\"]) + \";\" + str(registeredFlights[\"Codeshare\"]) + \";\" + str(registeredFlights[\"Arrival\"][\"City\"]) + \";\" + str(registeredFlights[\"Arrival\"][\"Airport\"]) + \";\" + str(registeredFlights[\"Arrival\"][\"Country\"]) + \";\" + str(registeredFlights[\"Flight\"]) + \";\" + str(registeredFlights[\"Departure\"][\"City\"]) + \";\" + str(registeredFlights[\"Departure\"][\"Airport\"]) + \";\" + str(registeredFlights[\"Departure\"][\"Country\"])\n",
    "        line = line.replace('None', 'null')\n",
    "        line = line + \"\\n\"\n",
    "        f2.write(line)\n",
    "f2.close()"
   ]
  },
  {
   "cell_type": "code",
   "execution_count": 43,
   "metadata": {},
   "outputs": [],
   "source": [
    "f3 = open(\"FrequentFlyerForum-Profiles-Travel_Documents.csv\", \"w\")\n",
    "f3.write(\"firstName\" + \";\" + \"lastName\" + \";\" + \"sex\" + \";\" + \"nickName\" + \";\" + \"doc\" + \"\\n\")\n",
    "\n",
    "for value in json[\"Forum Profiles\"]:\n",
    "    for travelDocuments in value[\"Travel Documents\"]:\n",
    "        firstName = value[\"Real Name\"][\"First Name\"]\n",
    "        lastName = value[\"Real Name\"][\"Last Name\"]\n",
    "        sex = value[\"Sex\"]\n",
    "        nickName = value[\"NickName\"]\n",
    "        line = str(firstName) + \";\" + str(lastName) + \";\" + str(sex) + \";\" + str(nickName) + \";\" + str(travelDocuments[\"Passports\"]) + \"\\n\"\n",
    "        line = line.replace('None', 'null')\n",
    "        f3.write(line)\n",
    "f3.close()"
   ]
  },
  {
   "cell_type": "code",
   "execution_count": 33,
   "metadata": {},
   "outputs": [
    {
     "data": {
      "text/plain": [
       "'None'"
      ]
     },
     "execution_count": 33,
     "metadata": {},
     "output_type": "execute_result"
    }
   ],
   "source": [
    "str(None)"
   ]
  },
  {
   "cell_type": "code",
   "execution_count": null,
   "metadata": {},
   "outputs": [],
   "source": []
  }
 ],
 "metadata": {
  "kernelspec": {
   "display_name": "Python 3",
   "language": "python",
   "name": "python3"
  },
  "language_info": {
   "codemirror_mode": {
    "name": "ipython",
    "version": 3
   },
   "file_extension": ".py",
   "mimetype": "text/x-python",
   "name": "python",
   "nbconvert_exporter": "python",
   "pygments_lexer": "ipython3",
   "version": "3.6.5"
  }
 },
 "nbformat": 4,
 "nbformat_minor": 2
}
