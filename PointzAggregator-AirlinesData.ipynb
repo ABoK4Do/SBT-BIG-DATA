{
 "cells": [
  {
   "cell_type": "code",
   "execution_count": 1,
   "metadata": {},
   "outputs": [],
   "source": [
    "import xml.etree.cElementTree as ET"
   ]
  },
  {
   "cell_type": "code",
   "execution_count": 2,
   "metadata": {},
   "outputs": [],
   "source": [
    "def writeData(file, uid, firstName, lastName, cardNumber, bonusProgramm, code, date, departure, arrival, fare):\n",
    "    file.write(uid + \";\" + firstName + \";\" + lastName + \";\" + cardNumber + \";\" + bonusProgramm + \";\" + code + \";\" + date + \";\" + departure + \";\" + arrival + \";\" + fare + \"\\n\")"
   ]
  },
  {
   "cell_type": "code",
   "execution_count": 3,
   "metadata": {},
   "outputs": [],
   "source": [
    "file = open(\"PointzAggregator-AirlinesData.csv\",\"w\")\n",
    "tree = ET.ElementTree(file='PointzAggregator-AirlinesData.xml')\n",
    "root = tree.getroot()\n",
    "writeData(file, \"uid\", \"firstName\", \"lastName\", \"cardNumber\", \"bonusProgramm\", \"code\", \"date\", \"departure\", \"arrival\", \"fare\")\n",
    "for userNode in root:\n",
    "    uid = userNode.attrib['uid']\n",
    "    nameAttrib = userNode.find('name').attrib\n",
    "    firstName = nameAttrib['first']\n",
    "    lastName = nameAttrib['last']\n",
    "    cards = userNode.find('cards')\n",
    "    if len(cards)==0 :\n",
    "        writeData(file, uid, firstName, lastName, \"null\", \"null\", \"null\", \"null\", \"null\", \"null\", \"null\")\n",
    "    for cardNode in cards:\n",
    "        cardNumber = cardNode.attrib['number']\n",
    "        bonusProgramm = cardNode.find(\"bonusprogramm\").text\n",
    "        activities = cardNode.find(\"activities\")\n",
    "        if len(activities)==0 :\n",
    "            writeData(file, uid, firstName, lastName, cardNumber, bonusProgramm, \"null\", \"null\", \"null\", \"null\", \"null\")\n",
    "        for activity in activities:\n",
    "            code = activity.find(\"Code\").text\n",
    "            date = activity.find(\"Date\").text\n",
    "            departure = activity.find(\"Departure\").text\n",
    "            arrival = activity.find(\"Arrival\").text\n",
    "            fare = activity.find(\"Fare\").text\n",
    "            writeData(file, uid, firstName, lastName, cardNumber, bonusProgramm, code, date, departure, arrival, fare)\n",
    "file.close()"
   ]
  },
  {
   "cell_type": "code",
   "execution_count": 4,
   "metadata": {},
   "outputs": [
    {
     "name": "stdout",
     "output_type": "stream",
     "text": [
      "OK\n"
     ]
    }
   ],
   "source": [
    "print(\"OK\")"
   ]
  },
  {
   "cell_type": "code",
   "execution_count": null,
   "metadata": {},
   "outputs": [],
   "source": []
  }
 ],
 "metadata": {
  "kernelspec": {
   "display_name": "Python 3",
   "language": "python",
   "name": "python3"
  },
  "language_info": {
   "codemirror_mode": {
    "name": "ipython",
    "version": 3
   },
   "file_extension": ".py",
   "mimetype": "text/x-python",
   "name": "python",
   "nbconvert_exporter": "python",
   "pygments_lexer": "ipython3",
   "version": "3.6.5"
  }
 },
 "nbformat": 4,
 "nbformat_minor": 2
}
